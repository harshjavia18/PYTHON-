{
 "cells": [
  {
   "cell_type": "code",
   "execution_count": 1,
   "id": "170ea4e2",
   "metadata": {},
   "outputs": [],
   "source": [
    "#IN THIS NOTEBOOK WE WILL GO THROUGH STRINGS "
   ]
  },
  {
   "cell_type": "code",
   "execution_count": 2,
   "id": "a55888c5",
   "metadata": {},
   "outputs": [],
   "source": [
    "first = \"hello\"\n",
    "last = \"world\""
   ]
  },
  {
   "cell_type": "code",
   "execution_count": 4,
   "id": "f00e0c8e",
   "metadata": {},
   "outputs": [
    {
     "data": {
      "text/plain": [
       "str"
      ]
     },
     "execution_count": 4,
     "metadata": {},
     "output_type": "execute_result"
    }
   ],
   "source": [
    "type(first) #type of variable"
   ]
  },
  {
   "cell_type": "code",
   "execution_count": 5,
   "id": "13eb7f51",
   "metadata": {},
   "outputs": [
    {
     "data": {
      "text/plain": [
       "'helloworld'"
      ]
     },
     "execution_count": 5,
     "metadata": {},
     "output_type": "execute_result"
    }
   ],
   "source": [
    "name = first + last #addition of 2 strings\n",
    "name"
   ]
  },
  {
   "cell_type": "code",
   "execution_count": 6,
   "id": "705ad3e3",
   "metadata": {},
   "outputs": [
    {
     "data": {
      "text/plain": [
       "'h'"
      ]
     },
     "execution_count": 6,
     "metadata": {},
     "output_type": "execute_result"
    }
   ],
   "source": [
    "name[0] #location or index of a character ( index always starts with 0 )"
   ]
  },
  {
   "cell_type": "code",
   "execution_count": 7,
   "id": "642f9506",
   "metadata": {},
   "outputs": [
    {
     "data": {
      "text/plain": [
       "'o'"
      ]
     },
     "execution_count": 7,
     "metadata": {},
     "output_type": "execute_result"
    }
   ],
   "source": [
    "name[4] #location or index of character"
   ]
  },
  {
   "cell_type": "code",
   "execution_count": 8,
   "id": "0b0b570f",
   "metadata": {},
   "outputs": [
    {
     "data": {
      "text/plain": [
       "'llowo'"
      ]
     },
     "execution_count": 8,
     "metadata": {},
     "output_type": "execute_result"
    }
   ],
   "source": [
    "name[2:7] #slicing in python is retriving the specific characters by given their specific index"
   ]
  },
  {
   "cell_type": "code",
   "execution_count": 9,
   "id": "6b02f70d",
   "metadata": {},
   "outputs": [
    {
     "data": {
      "text/plain": [
       "'hel'"
      ]
     },
     "execution_count": 9,
     "metadata": {},
     "output_type": "execute_result"
    }
   ],
   "source": [
    "name[0:3] #slicing in python is retriving the specific characters by given their specific index"
   ]
  },
  {
   "cell_type": "code",
   "execution_count": 19,
   "id": "e986b6e8",
   "metadata": {},
   "outputs": [
    {
     "data": {
      "text/plain": [
       "'helloworld'"
      ]
     },
     "execution_count": 19,
     "metadata": {},
     "output_type": "execute_result"
    }
   ],
   "source": [
    "name[:]"
   ]
  },
  {
   "cell_type": "code",
   "execution_count": 20,
   "id": "ade241ac",
   "metadata": {},
   "outputs": [
    {
     "data": {
      "text/plain": [
       "'d'"
      ]
     },
     "execution_count": 20,
     "metadata": {},
     "output_type": "execute_result"
    }
   ],
   "source": [
    "name[-1] #it will retrive characters from last word "
   ]
  },
  {
   "cell_type": "code",
   "execution_count": 21,
   "id": "01d0a915",
   "metadata": {},
   "outputs": [
    {
     "data": {
      "text/plain": [
       "10"
      ]
     },
     "execution_count": 21,
     "metadata": {},
     "output_type": "execute_result"
    }
   ],
   "source": [
    "len(name) #it will give length of the string "
   ]
  },
  {
   "cell_type": "code",
   "execution_count": 13,
   "id": "51629f2d",
   "metadata": {},
   "outputs": [
    {
     "data": {
      "text/plain": [
       "' samosa , jalebi '"
      ]
     },
     "execution_count": 13,
     "metadata": {},
     "output_type": "execute_result"
    }
   ],
   "source": [
    "food = \" samosa , jalebi \"\n",
    "food"
   ]
  },
  {
   "cell_type": "code",
   "execution_count": 15,
   "id": "32b3916c",
   "metadata": {},
   "outputs": [
    {
     "data": {
      "text/plain": [
       "True"
      ]
     },
     "execution_count": 15,
     "metadata": {},
     "output_type": "execute_result"
    }
   ],
   "source": [
    "'jalebi' in food #it returns either true or false depending upon the wheather a substance is present or not "
   ]
  },
  {
   "cell_type": "code",
   "execution_count": 23,
   "id": "18b7d236",
   "metadata": {},
   "outputs": [
    {
     "name": "stdout",
     "output_type": "stream",
     "text": [
      "samosa and jalebi were amazing but my most favourite food is burger \n",
      "i also like soft drinks like mojito or soda\n"
     ]
    }
   ],
   "source": [
    "food_review = \"samosa and jalebi were amazing but my most favourite food is burger \\ni also like soft drinks like mojito or soda\"\n",
    "print(food_review) # \\n is used for new line character . From there sentence will start from new line nut in this case u have to use print statement"
   ]
  },
  {
   "cell_type": "code",
   "execution_count": 24,
   "id": "c28587d2",
   "metadata": {},
   "outputs": [
    {
     "data": {
      "text/plain": [
       "' i was charged $100 for my food'"
      ]
     },
     "execution_count": 24,
     "metadata": {},
     "output_type": "execute_result"
    }
   ],
   "source": [
    "bill = \" i was charged $100 for my food\"\n",
    "bill"
   ]
  },
  {
   "cell_type": "code",
   "execution_count": 27,
   "id": "c9a8cb45",
   "metadata": {},
   "outputs": [
    {
     "data": {
      "text/plain": [
       "' i was charged $50 for my food'"
      ]
     },
     "execution_count": 27,
     "metadata": {},
     "output_type": "execute_result"
    }
   ],
   "source": [
    "bill = bill.replace (\"$100\", \"$50\") #if i want to change something specific in my string i can use variablename.replace function \n",
    "bill"
   ]
  },
  {
   "cell_type": "code",
   "execution_count": 28,
   "id": "5f5df1e3",
   "metadata": {},
   "outputs": [
    {
     "data": {
      "text/plain": [
       "' i was charged $50 for my food'"
      ]
     },
     "execution_count": 28,
     "metadata": {},
     "output_type": "execute_result"
    }
   ],
   "source": [
    "bill"
   ]
  },
  {
   "cell_type": "code",
   "execution_count": 34,
   "id": "a3d13585",
   "metadata": {},
   "outputs": [
    {
     "data": {
      "text/plain": [
       "['__add__',\n",
       " '__class__',\n",
       " '__contains__',\n",
       " '__delattr__',\n",
       " '__dir__',\n",
       " '__doc__',\n",
       " '__eq__',\n",
       " '__format__',\n",
       " '__ge__',\n",
       " '__getattribute__',\n",
       " '__getitem__',\n",
       " '__getnewargs__',\n",
       " '__getstate__',\n",
       " '__gt__',\n",
       " '__hash__',\n",
       " '__init__',\n",
       " '__init_subclass__',\n",
       " '__iter__',\n",
       " '__le__',\n",
       " '__len__',\n",
       " '__lt__',\n",
       " '__mod__',\n",
       " '__mul__',\n",
       " '__ne__',\n",
       " '__new__',\n",
       " '__reduce__',\n",
       " '__reduce_ex__',\n",
       " '__repr__',\n",
       " '__rmod__',\n",
       " '__rmul__',\n",
       " '__setattr__',\n",
       " '__sizeof__',\n",
       " '__str__',\n",
       " '__subclasshook__',\n",
       " 'capitalize',\n",
       " 'casefold',\n",
       " 'center',\n",
       " 'count',\n",
       " 'encode',\n",
       " 'endswith',\n",
       " 'expandtabs',\n",
       " 'find',\n",
       " 'format',\n",
       " 'format_map',\n",
       " 'index',\n",
       " 'isalnum',\n",
       " 'isalpha',\n",
       " 'isascii',\n",
       " 'isdecimal',\n",
       " 'isdigit',\n",
       " 'isidentifier',\n",
       " 'islower',\n",
       " 'isnumeric',\n",
       " 'isprintable',\n",
       " 'isspace',\n",
       " 'istitle',\n",
       " 'isupper',\n",
       " 'join',\n",
       " 'ljust',\n",
       " 'lower',\n",
       " 'lstrip',\n",
       " 'maketrans',\n",
       " 'partition',\n",
       " 'removeprefix',\n",
       " 'removesuffix',\n",
       " 'replace',\n",
       " 'rfind',\n",
       " 'rindex',\n",
       " 'rjust',\n",
       " 'rpartition',\n",
       " 'rsplit',\n",
       " 'rstrip',\n",
       " 'split',\n",
       " 'splitlines',\n",
       " 'startswith',\n",
       " 'strip',\n",
       " 'swapcase',\n",
       " 'title',\n",
       " 'translate',\n",
       " 'upper',\n",
       " 'zfill']"
      ]
     },
     "execution_count": 34,
     "metadata": {},
     "output_type": "execute_result"
    }
   ],
   "source": [
    "dir(bill) #this are all the functions in python which i can apply on string"
   ]
  },
  {
   "cell_type": "code",
   "execution_count": 35,
   "id": "f27d5dc0",
   "metadata": {},
   "outputs": [
    {
     "data": {
      "text/plain": [
       "' i was charged $50 for my food'"
      ]
     },
     "execution_count": 35,
     "metadata": {},
     "output_type": "execute_result"
    }
   ],
   "source": [
    "bill"
   ]
  },
  {
   "cell_type": "code",
   "execution_count": 36,
   "id": "c87ad5c8",
   "metadata": {},
   "outputs": [
    {
     "data": {
      "text/plain": [
       "' I WAS CHARGED $50 FOR MY FOOD'"
      ]
     },
     "execution_count": 36,
     "metadata": {},
     "output_type": "execute_result"
    }
   ],
   "source": [
    "bill.upper() #all the characters was changed to upper case"
   ]
  }
 ],
 "metadata": {
  "kernelspec": {
   "display_name": "Python 3 (ipykernel)",
   "language": "python",
   "name": "python3"
  },
  "language_info": {
   "codemirror_mode": {
    "name": "ipython",
    "version": 3
   },
   "file_extension": ".py",
   "mimetype": "text/x-python",
   "name": "python",
   "nbconvert_exporter": "python",
   "pygments_lexer": "ipython3",
   "version": "3.11.5"
  }
 },
 "nbformat": 4,
 "nbformat_minor": 5
}
