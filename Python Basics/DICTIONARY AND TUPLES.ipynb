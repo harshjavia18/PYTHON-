{
 "cells": [
  {
   "cell_type": "code",
   "execution_count": 1,
   "id": "98678ba9",
   "metadata": {},
   "outputs": [],
   "source": [
    "#IN THIS NOTEBOOK WE WILL GO THROUGH DICTIONARY AND TUPLES"
   ]
  },
  {
   "cell_type": "code",
   "execution_count": 2,
   "id": "f38dc8a9",
   "metadata": {},
   "outputs": [],
   "source": [
    "#TUPLES are immutable  means once we declared it , it can't be changed "
   ]
  },
  {
   "cell_type": "code",
   "execution_count": 6,
   "id": "aaa6fcda",
   "metadata": {},
   "outputs": [],
   "source": [
    "def find_pe_and_pb(price , eps , book_value):\n",
    "  pe = price/eps\n",
    "  pb = price/book_value\n",
    "  return pe , pb "
   ]
  },
  {
   "cell_type": "code",
   "execution_count": 7,
   "id": "02da5385",
   "metadata": {},
   "outputs": [],
   "source": [
    "pe_ratio , pb_ratio = find_pe_and_pb(100 , 2 , 4)"
   ]
  },
  {
   "cell_type": "code",
   "execution_count": 8,
   "id": "c305b494",
   "metadata": {},
   "outputs": [
    {
     "data": {
      "text/plain": [
       "50.0"
      ]
     },
     "execution_count": 8,
     "metadata": {},
     "output_type": "execute_result"
    }
   ],
   "source": [
    "pe_ratio"
   ]
  },
  {
   "cell_type": "code",
   "execution_count": 9,
   "id": "c71fa308",
   "metadata": {},
   "outputs": [
    {
     "data": {
      "text/plain": [
       "25.0"
      ]
     },
     "execution_count": 9,
     "metadata": {},
     "output_type": "execute_result"
    }
   ],
   "source": [
    "pb_ratio"
   ]
  },
  {
   "cell_type": "code",
   "execution_count": 10,
   "id": "800f0120",
   "metadata": {},
   "outputs": [],
   "source": [
    "contacts = [(\"rachel\", 96637478000),(\"monica\",832748274824),(\"joey\",7163163484637)] #phonebook as tuple "
   ]
  },
  {
   "cell_type": "code",
   "execution_count": 11,
   "id": "b278f8e1",
   "metadata": {},
   "outputs": [],
   "source": [
    "#one simple way to find the contact and name from tuple is for loop"
   ]
  },
  {
   "cell_type": "code",
   "execution_count": 13,
   "id": "47289ba1",
   "metadata": {},
   "outputs": [
    {
     "name": "stdout",
     "output_type": "stream",
     "text": [
      "7163163484637\n"
     ]
    }
   ],
   "source": [
    "for contact in contacts :\n",
    "    if contact[0] == \"joey\":\n",
    "     print(contact[1])\n",
    "#but what if phone book has thousand of contact so it is very hectic to run a for loop"
   ]
  },
  {
   "cell_type": "code",
   "execution_count": 14,
   "id": "cce0a960",
   "metadata": {},
   "outputs": [],
   "source": [
    "#for this we will use dictionary to save the contacts"
   ]
  },
  {
   "cell_type": "code",
   "execution_count": 17,
   "id": "6339cf51",
   "metadata": {},
   "outputs": [],
   "source": [
    "d = { \n",
    "    \"rachel\" : 96637478000 , \"monica\" : 832748274824 , \"joey\" : 7163163484637 \n",
    "}\n",
    "#in dictionary we dont use = to asign the pair we use : to assign it "
   ]
  },
  {
   "cell_type": "code",
   "execution_count": 18,
   "id": "de56c070",
   "metadata": {},
   "outputs": [
    {
     "data": {
      "text/plain": [
       "7163163484637"
      ]
     },
     "execution_count": 18,
     "metadata": {},
     "output_type": "execute_result"
    }
   ],
   "source": [
    "#to get joey contact number we just need to run the following code\n",
    "d[\"joey\"]"
   ]
  },
  {
   "cell_type": "code",
   "execution_count": 20,
   "id": "3f8a3089",
   "metadata": {},
   "outputs": [
    {
     "data": {
      "text/plain": [
       "7163163484637"
      ]
     },
     "execution_count": 20,
     "metadata": {},
     "output_type": "execute_result"
    }
   ],
   "source": [
    "#if we want to manipulate the numbers or change the data \n",
    "d[\"joey\"]"
   ]
  },
  {
   "cell_type": "code",
   "execution_count": 22,
   "id": "2b263ac4",
   "metadata": {},
   "outputs": [
    {
     "data": {
      "text/plain": [
       "{'rachel': 96637478000, 'monica': 832748274824, 'joey': 289347237428472}"
      ]
     },
     "execution_count": 22,
     "metadata": {},
     "output_type": "execute_result"
    }
   ],
   "source": [
    "d[\"joey\"] = 289347237428472\n",
    "d"
   ]
  },
  {
   "cell_type": "code",
   "execution_count": 23,
   "id": "6f3f031c",
   "metadata": {},
   "outputs": [
    {
     "data": {
      "text/plain": [
       "{'rachel': 96637478000,\n",
       " 'monica': 832748274824,\n",
       " 'joey': 289347237428472,\n",
       " 'satya': 457652628728346}"
      ]
     },
     "execution_count": 23,
     "metadata": {},
     "output_type": "execute_result"
    }
   ],
   "source": [
    "#if i want to add new element to dictionary \n",
    "d[\"satya\"] = 457652628728346\n",
    "d"
   ]
  },
  {
   "cell_type": "code",
   "execution_count": 25,
   "id": "39369159",
   "metadata": {},
   "outputs": [
    {
     "data": {
      "text/plain": [
       "{'rachel': 96637478000, 'monica': 832748274824, 'joey': 289347237428472}"
      ]
     },
     "execution_count": 25,
     "metadata": {},
     "output_type": "execute_result"
    }
   ],
   "source": [
    "#if i want to delete an element \n",
    "del d[\"satya\"]\n",
    "d"
   ]
  },
  {
   "cell_type": "code",
   "execution_count": 27,
   "id": "1d2e2a49",
   "metadata": {},
   "outputs": [
    {
     "data": {
      "text/plain": [
       "False"
      ]
     },
     "execution_count": 27,
     "metadata": {},
     "output_type": "execute_result"
    }
   ],
   "source": [
    "#if i want to check if a specific data is in dictionary or not ....it will return true or false\n",
    "\"abdul\" in d"
   ]
  },
  {
   "cell_type": "code",
   "execution_count": 28,
   "id": "e0547631",
   "metadata": {},
   "outputs": [
    {
     "data": {
      "text/plain": [
       "True"
      ]
     },
     "execution_count": 28,
     "metadata": {},
     "output_type": "execute_result"
    }
   ],
   "source": [
    "\"joey\" in d "
   ]
  },
  {
   "cell_type": "code",
   "execution_count": 29,
   "id": "9efcd5f0",
   "metadata": {},
   "outputs": [],
   "source": [
    "#if there are multiple attributes in dictionary \n",
    "d = {\n",
    "    \"rachel\" : { \"phone\" : 96637478000 , \"adress\" : \"behind church \"  },\n",
    "    \"joey\" : { \"phone\" :289347237428472 , \"adress\" : \"after bar\" }\n",
    "}"
   ]
  },
  {
   "cell_type": "code",
   "execution_count": 30,
   "id": "ea810157",
   "metadata": {},
   "outputs": [
    {
     "data": {
      "text/plain": [
       "'behind church '"
      ]
     },
     "execution_count": 30,
     "metadata": {},
     "output_type": "execute_result"
    }
   ],
   "source": [
    "d[\"rachel\"][\"adress\"] #first we have to give the element name whose adree or number we want to fetch from the dictionary "
   ]
  },
  {
   "cell_type": "code",
   "execution_count": 32,
   "id": "f8a56af9",
   "metadata": {},
   "outputs": [
    {
     "data": {
      "text/plain": [
       "289347237428472"
      ]
     },
     "execution_count": 32,
     "metadata": {},
     "output_type": "execute_result"
    }
   ],
   "source": [
    "d[\"joey\"][\"phone\"]"
   ]
  },
  {
   "cell_type": "code",
   "execution_count": 33,
   "id": "6ada473f",
   "metadata": {},
   "outputs": [
    {
     "data": {
      "text/plain": [
       "['__class__',\n",
       " '__class_getitem__',\n",
       " '__contains__',\n",
       " '__delattr__',\n",
       " '__delitem__',\n",
       " '__dir__',\n",
       " '__doc__',\n",
       " '__eq__',\n",
       " '__format__',\n",
       " '__ge__',\n",
       " '__getattribute__',\n",
       " '__getitem__',\n",
       " '__getstate__',\n",
       " '__gt__',\n",
       " '__hash__',\n",
       " '__init__',\n",
       " '__init_subclass__',\n",
       " '__ior__',\n",
       " '__iter__',\n",
       " '__le__',\n",
       " '__len__',\n",
       " '__lt__',\n",
       " '__ne__',\n",
       " '__new__',\n",
       " '__or__',\n",
       " '__reduce__',\n",
       " '__reduce_ex__',\n",
       " '__repr__',\n",
       " '__reversed__',\n",
       " '__ror__',\n",
       " '__setattr__',\n",
       " '__setitem__',\n",
       " '__sizeof__',\n",
       " '__str__',\n",
       " '__subclasshook__',\n",
       " 'clear',\n",
       " 'copy',\n",
       " 'fromkeys',\n",
       " 'get',\n",
       " 'items',\n",
       " 'keys',\n",
       " 'pop',\n",
       " 'popitem',\n",
       " 'setdefault',\n",
       " 'update',\n",
       " 'values']"
      ]
     },
     "execution_count": 33,
     "metadata": {},
     "output_type": "execute_result"
    }
   ],
   "source": [
    "#all the opertaions that can be done on d \n",
    "dir(d)"
   ]
  },
  {
   "cell_type": "code",
   "execution_count": 34,
   "id": "4399ae42",
   "metadata": {},
   "outputs": [
    {
     "data": {
      "text/plain": [
       "{'rachel': {'phone': 96637478000, 'adress': 'behind church '},\n",
       " 'joey': {'phone': 289347237428472, 'adress': 'after bar'}}"
      ]
     },
     "execution_count": 34,
     "metadata": {},
     "output_type": "execute_result"
    }
   ],
   "source": [
    "d"
   ]
  },
  {
   "cell_type": "code",
   "execution_count": 35,
   "id": "f81ec306",
   "metadata": {},
   "outputs": [
    {
     "data": {
      "text/plain": [
       "dict_keys(['rachel', 'joey'])"
      ]
     },
     "execution_count": 35,
     "metadata": {},
     "output_type": "execute_result"
    }
   ],
   "source": [
    "d.keys()"
   ]
  },
  {
   "cell_type": "code",
   "execution_count": 36,
   "id": "ad69d6b3",
   "metadata": {},
   "outputs": [
    {
     "data": {
      "text/plain": [
       "dict_values([{'phone': 96637478000, 'adress': 'behind church '}, {'phone': 289347237428472, 'adress': 'after bar'}])"
      ]
     },
     "execution_count": 36,
     "metadata": {},
     "output_type": "execute_result"
    }
   ],
   "source": [
    "d.values()"
   ]
  }
 ],
 "metadata": {
  "kernelspec": {
   "display_name": "Python 3 (ipykernel)",
   "language": "python",
   "name": "python3"
  },
  "language_info": {
   "codemirror_mode": {
    "name": "ipython",
    "version": 3
   },
   "file_extension": ".py",
   "mimetype": "text/x-python",
   "name": "python",
   "nbconvert_exporter": "python",
   "pygments_lexer": "ipython3",
   "version": "3.11.5"
  }
 },
 "nbformat": 4,
 "nbformat_minor": 5
}
