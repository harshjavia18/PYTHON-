{
 "cells": [
  {
   "cell_type": "code",
   "execution_count": null,
   "id": "cd9482dd",
   "metadata": {},
   "outputs": [],
   "source": [
    "#IN THIS NOTEBOOK WE WILL GO THROUGH NUMBERS IN PYTHON "
   ]
  },
  {
   "cell_type": "code",
   "execution_count": 1,
   "id": "dcf49d71",
   "metadata": {},
   "outputs": [],
   "source": [
    "height = 10"
   ]
  },
  {
   "cell_type": "code",
   "execution_count": 2,
   "id": "9498cb6f",
   "metadata": {},
   "outputs": [],
   "source": [
    "base = 5"
   ]
  },
  {
   "cell_type": "code",
   "execution_count": 5,
   "id": "b252dc4c",
   "metadata": {},
   "outputs": [
    {
     "data": {
      "text/plain": [
       "25.0"
      ]
     },
     "execution_count": 5,
     "metadata": {},
     "output_type": "execute_result"
    }
   ],
   "source": [
    "area= (1/2) * height * base  #height of traingle \n",
    "area"
   ]
  },
  {
   "cell_type": "code",
   "execution_count": 6,
   "id": "20ef02d6",
   "metadata": {},
   "outputs": [
    {
     "data": {
      "text/plain": [
       "float"
      ]
     },
     "execution_count": 6,
     "metadata": {},
     "output_type": "execute_result"
    }
   ],
   "source": [
    "type(area)"
   ]
  },
  {
   "cell_type": "code",
   "execution_count": 7,
   "id": "07f7a13c",
   "metadata": {},
   "outputs": [
    {
     "data": {
      "text/plain": [
       "3.3333333333333335"
      ]
     },
     "execution_count": 7,
     "metadata": {},
     "output_type": "execute_result"
    }
   ],
   "source": [
    "10/3 #division "
   ]
  },
  {
   "cell_type": "code",
   "execution_count": 8,
   "id": "22a7fd5d",
   "metadata": {},
   "outputs": [
    {
     "data": {
      "text/plain": [
       "3"
      ]
     },
     "execution_count": 8,
     "metadata": {},
     "output_type": "execute_result"
    }
   ],
   "source": [
    "10//3 #floor division "
   ]
  },
  {
   "cell_type": "code",
   "execution_count": 9,
   "id": "e79b1819",
   "metadata": {},
   "outputs": [
    {
     "data": {
      "text/plain": [
       "1"
      ]
     },
     "execution_count": 9,
     "metadata": {},
     "output_type": "execute_result"
    }
   ],
   "source": [
    "10%3 #modulo operator"
   ]
  },
  {
   "cell_type": "code",
   "execution_count": 10,
   "id": "e611cd7c",
   "metadata": {},
   "outputs": [
    {
     "data": {
      "text/plain": [
       "9"
      ]
     },
     "execution_count": 10,
     "metadata": {},
     "output_type": "execute_result"
    }
   ],
   "source": [
    "3**2 # its like squaring the number like 3 * 3 "
   ]
  },
  {
   "cell_type": "code",
   "execution_count": 11,
   "id": "2a7af459",
   "metadata": {},
   "outputs": [
    {
     "data": {
      "text/plain": [
       "216"
      ]
     },
     "execution_count": 11,
     "metadata": {},
     "output_type": "execute_result"
    }
   ],
   "source": [
    "6**3 # its like 6 * 6 * 6"
   ]
  },
  {
   "cell_type": "code",
   "execution_count": 12,
   "id": "0b3f7ea9",
   "metadata": {},
   "outputs": [
    {
     "data": {
      "text/plain": [
       "16"
      ]
     },
     "execution_count": 12,
     "metadata": {},
     "output_type": "execute_result"
    }
   ],
   "source": [
    "10+(2*3) #its always follows precedence"
   ]
  },
  {
   "cell_type": "code",
   "execution_count": 14,
   "id": "11a56228",
   "metadata": {},
   "outputs": [
    {
     "data": {
      "text/plain": [
       "36"
      ]
     },
     "execution_count": 14,
     "metadata": {},
     "output_type": "execute_result"
    }
   ],
   "source": [
    "(10+2)*3 "
   ]
  },
  {
   "cell_type": "code",
   "execution_count": 18,
   "id": "ba46ccad",
   "metadata": {},
   "outputs": [
    {
     "data": {
      "text/plain": [
       "23000.0"
      ]
     },
     "execution_count": 18,
     "metadata": {},
     "output_type": "execute_result"
    }
   ],
   "source": [
    "num = 2.3e4 #it is 2.3 * 10raise to 4 \n",
    "num"
   ]
  },
  {
   "cell_type": "code",
   "execution_count": 21,
   "id": "bf5a6497",
   "metadata": {},
   "outputs": [
    {
     "data": {
      "text/plain": [
       "0.00023"
      ]
     },
     "execution_count": 21,
     "metadata": {},
     "output_type": "execute_result"
    }
   ],
   "source": [
    "num1 = 2.3e-4 #it is 2.3 * 10raise to -4 \n",
    "num1 "
   ]
  },
  {
   "cell_type": "code",
   "execution_count": 25,
   "id": "b3cc916e",
   "metadata": {},
   "outputs": [
    {
     "data": {
      "text/plain": [
       "61.32"
      ]
     },
     "execution_count": 25,
     "metadata": {},
     "output_type": "execute_result"
    }
   ],
   "source": [
    "A = 10.17\n",
    "B = 20.90\n",
    "C = 30.25\n",
    "Total = A + B + C \n",
    "Total"
   ]
  },
  {
   "cell_type": "code",
   "execution_count": 26,
   "id": "32077110",
   "metadata": {},
   "outputs": [
    {
     "data": {
      "text/plain": [
       "61"
      ]
     },
     "execution_count": 26,
     "metadata": {},
     "output_type": "execute_result"
    }
   ],
   "source": [
    "round(Total) #used to round the total to nearest perfect integer"
   ]
  }
 ],
 "metadata": {
  "kernelspec": {
   "display_name": "Python 3 (ipykernel)",
   "language": "python",
   "name": "python3"
  },
  "language_info": {
   "codemirror_mode": {
    "name": "ipython",
    "version": 3
   },
   "file_extension": ".py",
   "mimetype": "text/x-python",
   "name": "python",
   "nbconvert_exporter": "python",
   "pygments_lexer": "ipython3",
   "version": "3.11.5"
  }
 },
 "nbformat": 4,
 "nbformat_minor": 5
}
