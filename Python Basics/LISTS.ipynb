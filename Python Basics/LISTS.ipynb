{
 "cells": [
  {
   "cell_type": "code",
   "execution_count": null,
   "id": "6fa4d9fd",
   "metadata": {},
   "outputs": [],
   "source": [
    "#IN THIS NOTEBOOK WE WILL GO THROUGH LISTS"
   ]
  },
  {
   "cell_type": "code",
   "execution_count": 1,
   "id": "25caf4b9",
   "metadata": {},
   "outputs": [],
   "source": [
    "item1 = \"A\"\n",
    "item2 = \"B\"\n",
    "item3 = \"C\"\n",
    "item4 = \"D\" # Traditional method to save the variables "
   ]
  },
  {
   "cell_type": "code",
   "execution_count": 2,
   "id": "208503e2",
   "metadata": {},
   "outputs": [
    {
     "data": {
      "text/plain": [
       "['A', 'B', 'C', 'D']"
      ]
     },
     "execution_count": 2,
     "metadata": {},
     "output_type": "execute_result"
    }
   ],
   "source": [
    "items = [\"A\",\"B\",\"C\",\"D\"] \n",
    "items                      #we can create a list instead of traditional method"
   ]
  },
  {
   "cell_type": "code",
   "execution_count": 3,
   "id": "9ddb0ff0",
   "metadata": {},
   "outputs": [
    {
     "data": {
      "text/plain": [
       "'A'"
      ]
     },
     "execution_count": 3,
     "metadata": {},
     "output_type": "execute_result"
    }
   ],
   "source": [
    "items[0] #we can retrive item by giving their index or location "
   ]
  },
  {
   "cell_type": "code",
   "execution_count": 4,
   "id": "1b067787",
   "metadata": {},
   "outputs": [
    {
     "data": {
      "text/plain": [
       "'D'"
      ]
     },
     "execution_count": 4,
     "metadata": {},
     "output_type": "execute_result"
    }
   ],
   "source": [
    "items[3] #we can retrive item by giving their index or location "
   ]
  },
  {
   "cell_type": "code",
   "execution_count": 5,
   "id": "5223f980",
   "metadata": {},
   "outputs": [
    {
     "data": {
      "text/plain": [
       "['A', 'B']"
      ]
     },
     "execution_count": 5,
     "metadata": {},
     "output_type": "execute_result"
    }
   ],
   "source": [
    "items[0:2] #we can also use slicing to retrive specific items"
   ]
  },
  {
   "cell_type": "code",
   "execution_count": 6,
   "id": "d4662f52",
   "metadata": {},
   "outputs": [
    {
     "data": {
      "text/plain": [
       "['A', 'B', 'C', 'D']"
      ]
     },
     "execution_count": 6,
     "metadata": {},
     "output_type": "execute_result"
    }
   ],
   "source": [
    "items "
   ]
  },
  {
   "cell_type": "code",
   "execution_count": 7,
   "id": "a93aecda",
   "metadata": {},
   "outputs": [
    {
     "data": {
      "text/plain": [
       "['A', 'B', 'C', 'D', 'E']"
      ]
     },
     "execution_count": 7,
     "metadata": {},
     "output_type": "execute_result"
    }
   ],
   "source": [
    "items.append(\"E\")\n",
    "items           #variable.append helps to add new item in list but remember item will be added at last in list "
   ]
  },
  {
   "cell_type": "code",
   "execution_count": 8,
   "id": "f573f3b0",
   "metadata": {},
   "outputs": [
    {
     "data": {
      "text/plain": [
       "['A', 'F', 'B', 'C', 'D', 'E']"
      ]
     },
     "execution_count": 8,
     "metadata": {},
     "output_type": "execute_result"
    }
   ],
   "source": [
    "items.insert(1,\"F\")\n",
    "items  #to specifically insert in any position we use variable.insert with location and item we want to insert "
   ]
  },
  {
   "cell_type": "code",
   "execution_count": 9,
   "id": "00687fbe",
   "metadata": {},
   "outputs": [
    {
     "data": {
      "text/plain": [
       "['A', 'B', 'C', 'D', 'E']"
      ]
     },
     "execution_count": 9,
     "metadata": {},
     "output_type": "execute_result"
    }
   ],
   "source": [
    "items.remove(\"F\")\n",
    "items  #variable.remove is used to remove any item from the list "
   ]
  },
  {
   "cell_type": "code",
   "execution_count": 10,
   "id": "ac430d68",
   "metadata": {},
   "outputs": [
    {
     "data": {
      "text/plain": [
       "True"
      ]
     },
     "execution_count": 10,
     "metadata": {},
     "output_type": "execute_result"
    }
   ],
   "source": [
    "\"A\" in items #it shows if any item is present in the list or not like here it is present so it will show TRUE"
   ]
  },
  {
   "cell_type": "code",
   "execution_count": 11,
   "id": "e11b9bbe",
   "metadata": {},
   "outputs": [
    {
     "data": {
      "text/plain": [
       "False"
      ]
     },
     "execution_count": 11,
     "metadata": {},
     "output_type": "execute_result"
    }
   ],
   "source": [
    "\"Z\" in items #it shows if any item is present in the list or not like here it is present so it will show FALSE"
   ]
  },
  {
   "cell_type": "code",
   "execution_count": 12,
   "id": "d721c3af",
   "metadata": {},
   "outputs": [
    {
     "data": {
      "text/plain": [
       "[10, 40, 26, 78, 44]"
      ]
     },
     "execution_count": 12,
     "metadata": {},
     "output_type": "execute_result"
    }
   ],
   "source": [
    "expenses = [10,40,26,78,44]\n",
    "expenses"
   ]
  },
  {
   "cell_type": "code",
   "execution_count": 14,
   "id": "14887a5e",
   "metadata": {},
   "outputs": [
    {
     "data": {
      "text/plain": [
       "[10, 26, 40, 44, 78]"
      ]
     },
     "execution_count": 14,
     "metadata": {},
     "output_type": "execute_result"
    }
   ],
   "source": [
    "expenses.sort()\n",
    "expenses #variable.sort will arrange items ascending or increasing order "
   ]
  },
  {
   "cell_type": "code",
   "execution_count": 15,
   "id": "17ad3948",
   "metadata": {},
   "outputs": [
    {
     "data": {
      "text/plain": [
       "5"
      ]
     },
     "execution_count": 15,
     "metadata": {},
     "output_type": "execute_result"
    }
   ],
   "source": [
    "len(expenses) #it will give length of a list "
   ]
  },
  {
   "cell_type": "code",
   "execution_count": 16,
   "id": "744b1701",
   "metadata": {},
   "outputs": [
    {
     "data": {
      "text/plain": [
       "['__add__',\n",
       " '__class__',\n",
       " '__class_getitem__',\n",
       " '__contains__',\n",
       " '__delattr__',\n",
       " '__delitem__',\n",
       " '__dir__',\n",
       " '__doc__',\n",
       " '__eq__',\n",
       " '__format__',\n",
       " '__ge__',\n",
       " '__getattribute__',\n",
       " '__getitem__',\n",
       " '__getstate__',\n",
       " '__gt__',\n",
       " '__hash__',\n",
       " '__iadd__',\n",
       " '__imul__',\n",
       " '__init__',\n",
       " '__init_subclass__',\n",
       " '__iter__',\n",
       " '__le__',\n",
       " '__len__',\n",
       " '__lt__',\n",
       " '__mul__',\n",
       " '__ne__',\n",
       " '__new__',\n",
       " '__reduce__',\n",
       " '__reduce_ex__',\n",
       " '__repr__',\n",
       " '__reversed__',\n",
       " '__rmul__',\n",
       " '__setattr__',\n",
       " '__setitem__',\n",
       " '__sizeof__',\n",
       " '__str__',\n",
       " '__subclasshook__',\n",
       " 'append',\n",
       " 'clear',\n",
       " 'copy',\n",
       " 'count',\n",
       " 'extend',\n",
       " 'index',\n",
       " 'insert',\n",
       " 'pop',\n",
       " 'remove',\n",
       " 'reverse',\n",
       " 'sort']"
      ]
     },
     "execution_count": 16,
     "metadata": {},
     "output_type": "execute_result"
    }
   ],
   "source": [
    "dir(expenses) # all the operations that can be followed on the list "
   ]
  },
  {
   "cell_type": "code",
   "execution_count": 19,
   "id": "c1ebf81a",
   "metadata": {},
   "outputs": [
    {
     "data": {
      "text/plain": [
       "['E', 'D', 'C', 'B', 'A']"
      ]
     },
     "execution_count": 19,
     "metadata": {},
     "output_type": "execute_result"
    }
   ],
   "source": [
    "items.reverse()\n",
    "items           #variable.reverse will reverse the list "
   ]
  },
  {
   "cell_type": "code",
   "execution_count": 20,
   "id": "7ca018c6",
   "metadata": {},
   "outputs": [
    {
     "data": {
      "text/plain": [
       "['a', 20, True]"
      ]
     },
     "execution_count": 20,
     "metadata": {},
     "output_type": "execute_result"
    }
   ],
   "source": [
    "allitems = [\"a\",20,True]\n",
    "allitems    #list can store all datatypes "
   ]
  }
 ],
 "metadata": {
  "kernelspec": {
   "display_name": "Python 3 (ipykernel)",
   "language": "python",
   "name": "python3"
  },
  "language_info": {
   "codemirror_mode": {
    "name": "ipython",
    "version": 3
   },
   "file_extension": ".py",
   "mimetype": "text/x-python",
   "name": "python",
   "nbconvert_exporter": "python",
   "pygments_lexer": "ipython3",
   "version": "3.11.5"
  }
 },
 "nbformat": 4,
 "nbformat_minor": 5
}
