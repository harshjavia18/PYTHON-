{
 "cells": [
  {
   "cell_type": "code",
   "execution_count": null,
   "id": "7de1f67d",
   "metadata": {},
   "outputs": [],
   "source": [
    "#IN THIS NOTEBOOK WE WILL GO THROUGH OPERATIONS IN NUMPY "
   ]
  },
  {
   "cell_type": "code",
   "execution_count": 1,
   "id": "412d7ae7",
   "metadata": {},
   "outputs": [],
   "source": [
    "import numpy as np"
   ]
  },
  {
   "cell_type": "code",
   "execution_count": 2,
   "id": "4bb15f98",
   "metadata": {},
   "outputs": [
    {
     "data": {
      "text/plain": [
       "1"
      ]
     },
     "execution_count": 2,
     "metadata": {},
     "output_type": "execute_result"
    }
   ],
   "source": [
    "rev_q1 = np.array([10,12,7])\n",
    "rev_q1.ndim  #.ndim function gives us the dimension of the array here its is 1D array"
   ]
  },
  {
   "cell_type": "code",
   "execution_count": 4,
   "id": "9d61f788",
   "metadata": {},
   "outputs": [
    {
     "data": {
      "text/plain": [
       "2"
      ]
     },
     "execution_count": 4,
     "metadata": {},
     "output_type": "execute_result"
    }
   ],
   "source": [
    "rev = np.array([[10,3,6], [5,7,8]])\n",
    "rev.ndim    #.ndim function gives us the dimension of the array here its is 2D array"
   ]
  },
  {
   "cell_type": "code",
   "execution_count": 5,
   "id": "485f4d8f",
   "metadata": {},
   "outputs": [
    {
     "data": {
      "text/plain": [
       "array([[10,  3,  6],\n",
       "       [ 5,  7,  8]])"
      ]
     },
     "execution_count": 5,
     "metadata": {},
     "output_type": "execute_result"
    }
   ],
   "source": [
    "rev"
   ]
  },
  {
   "cell_type": "code",
   "execution_count": 9,
   "id": "4449f435",
   "metadata": {},
   "outputs": [
    {
     "data": {
      "text/plain": [
       "np.int64(5)"
      ]
     },
     "execution_count": 9,
     "metadata": {},
     "output_type": "execute_result"
    }
   ],
   "source": [
    "rev[1,0] #gives us the element on that specific location "
   ]
  },
  {
   "cell_type": "code",
   "execution_count": 12,
   "id": "d27ade44",
   "metadata": {},
   "outputs": [
    {
     "data": {
      "text/plain": [
       "array([[10,  3,  6],\n",
       "       [14,  7,  8]])"
      ]
     },
     "execution_count": 12,
     "metadata": {},
     "output_type": "execute_result"
    }
   ],
   "source": [
    "rev[1,0] = 14 # we can change the element by giving the position \n",
    "rev "
   ]
  },
  {
   "cell_type": "code",
   "execution_count": 14,
   "id": "afa0cc0b",
   "metadata": {},
   "outputs": [
    {
     "data": {
      "text/plain": [
       "6"
      ]
     },
     "execution_count": 14,
     "metadata": {},
     "output_type": "execute_result"
    }
   ],
   "source": [
    "rev.size #tells us how many elements are there "
   ]
  },
  {
   "cell_type": "code",
   "execution_count": 15,
   "id": "eddfa599",
   "metadata": {},
   "outputs": [
    {
     "data": {
      "text/plain": [
       "8"
      ]
     },
     "execution_count": 15,
     "metadata": {},
     "output_type": "execute_result"
    }
   ],
   "source": [
    "rev.itemsize #tells us the bites that elements have "
   ]
  },
  {
   "cell_type": "code",
   "execution_count": 16,
   "id": "8939274b",
   "metadata": {},
   "outputs": [
    {
     "data": {
      "text/plain": [
       "48"
      ]
     },
     "execution_count": 16,
     "metadata": {},
     "output_type": "execute_result"
    }
   ],
   "source": [
    "rev.nbytes #tells us the number of bytes "
   ]
  },
  {
   "cell_type": "code",
   "execution_count": 17,
   "id": "d1621da9",
   "metadata": {},
   "outputs": [
    {
     "data": {
      "text/plain": [
       "(2, 3)"
      ]
     },
     "execution_count": 17,
     "metadata": {},
     "output_type": "execute_result"
    }
   ],
   "source": [
    "rev.shape #tells us the shape of array"
   ]
  },
  {
   "cell_type": "code",
   "execution_count": 18,
   "id": "3eb270dd",
   "metadata": {},
   "outputs": [
    {
     "data": {
      "text/plain": [
       "array([[ 3,  6, 10],\n",
       "       [ 7,  8, 14]])"
      ]
     },
     "execution_count": 18,
     "metadata": {},
     "output_type": "execute_result"
    }
   ],
   "source": [
    "np.sort(rev) #it sorts the array in ascending order "
   ]
  },
  {
   "cell_type": "code",
   "execution_count": 20,
   "id": "34e17295",
   "metadata": {},
   "outputs": [
    {
     "data": {
      "text/plain": [
       "array([ 3,  6,  7,  8, 10, 14])"
      ]
     },
     "execution_count": 20,
     "metadata": {},
     "output_type": "execute_result"
    }
   ],
   "source": [
    "np.sort(rev , axis=None) #it sorts the array in linear form not in the array form "
   ]
  },
  {
   "cell_type": "code",
   "execution_count": 22,
   "id": "a055cdce",
   "metadata": {},
   "outputs": [
    {
     "data": {
      "text/plain": [
       "array([[0., 0., 0., 0., 0.],\n",
       "       [0., 0., 0., 0., 0.],\n",
       "       [0., 0., 0., 0., 0.],\n",
       "       [0., 0., 0., 0., 0.],\n",
       "       [0., 0., 0., 0., 0.]])"
      ]
     },
     "execution_count": 22,
     "metadata": {},
     "output_type": "execute_result"
    }
   ],
   "source": [
    "np.zeros((5,5)) #prints all zeros in 5,5"
   ]
  },
  {
   "cell_type": "code",
   "execution_count": 23,
   "id": "72323809",
   "metadata": {},
   "outputs": [
    {
     "data": {
      "text/plain": [
       "array([20, 22, 24, 26, 28])"
      ]
     },
     "execution_count": 23,
     "metadata": {},
     "output_type": "execute_result"
    }
   ],
   "source": [
    "np.arange(20,30,2) #it prints the elements between 20 and 30 with the gap of 2 or we can say even numbers"
   ]
  },
  {
   "cell_type": "code",
   "execution_count": 24,
   "id": "2add5418",
   "metadata": {},
   "outputs": [
    {
     "data": {
      "text/plain": [
       "array([10., 15., 20.])"
      ]
     },
     "execution_count": 24,
     "metadata": {},
     "output_type": "execute_result"
    }
   ],
   "source": [
    "np.linspace(10,20,3) #it prints the number between 10 and 20 with equal spacing "
   ]
  },
  {
   "cell_type": "code",
   "execution_count": 25,
   "id": "e2044ee9",
   "metadata": {},
   "outputs": [
    {
     "data": {
      "text/plain": [
       "array([10,  3,  6, 14,  7,  8])"
      ]
     },
     "execution_count": 25,
     "metadata": {},
     "output_type": "execute_result"
    }
   ],
   "source": [
    "rev.flatten() #it flattens the array in one line"
   ]
  },
  {
   "cell_type": "code",
   "execution_count": 26,
   "id": "3045439e",
   "metadata": {},
   "outputs": [
    {
     "data": {
      "text/plain": [
       "array([[10,  3],\n",
       "       [ 6, 14],\n",
       "       [ 7,  8]])"
      ]
     },
     "execution_count": 26,
     "metadata": {},
     "output_type": "execute_result"
    }
   ],
   "source": [
    "rev.reshape(3,2) #it rehshapes the array like first it was 2row and 3column now it is 3row and 2column "
   ]
  },
  {
   "cell_type": "code",
   "execution_count": 27,
   "id": "4a3e73e9",
   "metadata": {},
   "outputs": [
    {
     "data": {
      "text/plain": [
       "np.int64(3)"
      ]
     },
     "execution_count": 27,
     "metadata": {},
     "output_type": "execute_result"
    }
   ],
   "source": [
    "rev.min() #gives minimum element"
   ]
  },
  {
   "cell_type": "code",
   "execution_count": 28,
   "id": "921e9191",
   "metadata": {},
   "outputs": [
    {
     "data": {
      "text/plain": [
       "np.int64(14)"
      ]
     },
     "execution_count": 28,
     "metadata": {},
     "output_type": "execute_result"
    }
   ],
   "source": [
    "rev.max() #gives maximum element"
   ]
  },
  {
   "cell_type": "code",
   "execution_count": 29,
   "id": "8dc8945e",
   "metadata": {},
   "outputs": [
    {
     "data": {
      "text/plain": [
       "np.int64(48)"
      ]
     },
     "execution_count": 29,
     "metadata": {},
     "output_type": "execute_result"
    }
   ],
   "source": [
    "rev.sum() #gives sum of array "
   ]
  },
  {
   "cell_type": "code",
   "execution_count": 36,
   "id": "827f4d0e",
   "metadata": {},
   "outputs": [
    {
     "name": "stdout",
     "output_type": "stream",
     "text": [
      "row ->  [10  3  6]\n",
      "row ->  [14  7  8]\n"
     ]
    }
   ],
   "source": [
    "for row in rev:\n",
    " print(\"row -> \", row )  #it prints the row "
   ]
  },
  {
   "cell_type": "code",
   "execution_count": 37,
   "id": "a11f962f",
   "metadata": {},
   "outputs": [
    {
     "data": {
      "text/plain": [
       "array([ 1,  4, 16])"
      ]
     },
     "execution_count": 37,
     "metadata": {},
     "output_type": "execute_result"
    }
   ],
   "source": [
    "b = np.array([1,4,16])\n",
    "b"
   ]
  },
  {
   "cell_type": "code",
   "execution_count": 38,
   "id": "cfe48fad",
   "metadata": {},
   "outputs": [
    {
     "data": {
      "text/plain": [
       "array([1., 2., 4.])"
      ]
     },
     "execution_count": 38,
     "metadata": {},
     "output_type": "execute_result"
    }
   ],
   "source": [
    "np.sqrt(b) #gives squareroot of the array "
   ]
  }
 ],
 "metadata": {
  "kernelspec": {
   "display_name": "Python 3 (ipykernel)",
   "language": "python",
   "name": "python3"
  },
  "language_info": {
   "codemirror_mode": {
    "name": "ipython",
    "version": 3
   },
   "file_extension": ".py",
   "mimetype": "text/x-python",
   "name": "python",
   "nbconvert_exporter": "python",
   "pygments_lexer": "ipython3",
   "version": "3.11.5"
  }
 },
 "nbformat": 4,
 "nbformat_minor": 5
}
