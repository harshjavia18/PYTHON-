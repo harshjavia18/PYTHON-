{
 "cells": [
  {
   "cell_type": "code",
   "execution_count": null,
   "id": "c127852a",
   "metadata": {},
   "outputs": [],
   "source": [
    "#IN THIS NOTEBOOK WE WILL GO THROUGH MATRIX OPERTAIONS "
   ]
  },
  {
   "cell_type": "code",
   "execution_count": 1,
   "id": "df182958",
   "metadata": {},
   "outputs": [],
   "source": [
    "import numpy as np "
   ]
  },
  {
   "cell_type": "code",
   "execution_count": 2,
   "id": "0fb67816",
   "metadata": {},
   "outputs": [],
   "source": [
    "# Sales data for Quarter 1 (Matrix 1)\n",
    "# Rows represent different products, columns represent different regions\n",
    "\n",
    "q1 = np.array([\n",
    "    [200, 220, 250],  # Product A\n",
    "    [150, 180, 210],  # Product B\n",
    "    [300, 330, 360]   # Product C\n",
    "])\n",
    "\n",
    "q2 = np.array([\n",
    "    [209, 231, 259],  # Product A\n",
    "    [155, 192, 222],  # Product B\n",
    "    [310, 340, 375]   # Product C\n",
    "])"
   ]
  },
  {
   "cell_type": "code",
   "execution_count": 3,
   "id": "8ca5e69a",
   "metadata": {},
   "outputs": [
    {
     "data": {
      "text/plain": [
       "array([[409, 451, 509],\n",
       "       [305, 372, 432],\n",
       "       [610, 670, 735]])"
      ]
     },
     "execution_count": 3,
     "metadata": {},
     "output_type": "execute_result"
    }
   ],
   "source": [
    "q1 + q2 #summation of both the matrix "
   ]
  },
  {
   "cell_type": "code",
   "execution_count": 4,
   "id": "54b2c818",
   "metadata": {},
   "outputs": [
    {
     "data": {
      "text/plain": [
       "array([[ 9, 11,  9],\n",
       "       [ 5, 12, 12],\n",
       "       [10, 10, 15]])"
      ]
     },
     "execution_count": 4,
     "metadata": {},
     "output_type": "execute_result"
    }
   ],
   "source": [
    "q2 - q1 #subtraction of both matrix"
   ]
  },
  {
   "cell_type": "code",
   "execution_count": 5,
   "id": "70c904bd",
   "metadata": {},
   "outputs": [
    {
     "data": {
      "text/plain": [
       "array([[4.5       , 5.        , 3.6       ],\n",
       "       [3.33333333, 6.66666667, 5.71428571],\n",
       "       [3.33333333, 3.03030303, 4.16666667]])"
      ]
     },
     "execution_count": 5,
     "metadata": {},
     "output_type": "execute_result"
    }
   ],
   "source": [
    "(q2 - q1)*100 / q1 #growth in terms of percentage "
   ]
  },
  {
   "cell_type": "code",
   "execution_count": 6,
   "id": "f080baa9",
   "metadata": {},
   "outputs": [
    {
     "data": {
      "text/plain": [
       "array([[2000, 2640, 2750],\n",
       "       [1200, 1620, 2100],\n",
       "       [4500, 5280, 6120]])"
      ]
     },
     "execution_count": 6,
     "metadata": {},
     "output_type": "execute_result"
    }
   ],
   "source": [
    "prices = np.array([\n",
    "    [10, 12, 11],  # Prices for Product A in different regions\n",
    "    [8,  9,  10],  # Prices for Product B\n",
    "    [15, 16, 17]   # Prices for Product C\n",
    "])\n",
    "q1_revenue = q1*prices\n",
    "q1_revenue"
   ]
  },
  {
   "cell_type": "code",
   "execution_count": 7,
   "id": "61afc992",
   "metadata": {},
   "outputs": [
    {
     "data": {
      "text/plain": [
       "array([[ 40. ,  52.8,  55. ],\n",
       "       [ 24. ,  32.4,  42. ],\n",
       "       [ 90. , 105.6, 122.4]])"
      ]
     },
     "execution_count": 7,
     "metadata": {},
     "output_type": "execute_result"
    }
   ],
   "source": [
    "q1_discounts = q1_revenue*0.02\n",
    "q1_discounts   #20 percent discount given on each product "
   ]
  },
  {
   "cell_type": "code",
   "execution_count": 8,
   "id": "864e3846",
   "metadata": {},
   "outputs": [
    {
     "data": {
      "text/plain": [
       "array([[1960. , 2587.2, 2695. ],\n",
       "       [1176. , 1587.6, 2058. ],\n",
       "       [4410. , 5174.4, 5997.6]])"
      ]
     },
     "execution_count": 8,
     "metadata": {},
     "output_type": "execute_result"
    }
   ],
   "source": [
    "net_revenue = q1_revenue - q1_discounts\n",
    "net_revenue   #net revenue "
   ]
  },
  {
   "cell_type": "code",
   "execution_count": 9,
   "id": "c0ba3093",
   "metadata": {},
   "outputs": [
    {
     "data": {
      "text/plain": [
       "np.float64(564.2)"
      ]
     },
     "execution_count": 9,
     "metadata": {},
     "output_type": "execute_result"
    }
   ],
   "source": [
    "np.sum(q1_discounts) #sum of discounts given on products"
   ]
  },
  {
   "cell_type": "code",
   "execution_count": 10,
   "id": "c4fb9206",
   "metadata": {},
   "outputs": [
    {
     "data": {
      "text/plain": [
       "array([450000, 370000])"
      ]
     },
     "execution_count": 10,
     "metadata": {},
     "output_type": "execute_result"
    }
   ],
   "source": [
    "# first column is square footage, second is bedrooms\n",
    "features = np.array([\n",
    "    [2000, 3], # house 1\n",
    "    [1800, 2]  # house 2\n",
    "])\n",
    "\n",
    "weights = np.array([150, 50000])\n",
    "\n",
    "price = np.dot(features, weights)\n",
    "price"
   ]
  },
  {
   "cell_type": "code",
   "execution_count": 11,
   "id": "af298c83",
   "metadata": {},
   "outputs": [
    {
     "data": {
      "text/plain": [
       "array([-3,  6, -3])"
      ]
     },
     "execution_count": 11,
     "metadata": {},
     "output_type": "execute_result"
    }
   ],
   "source": [
    "c = np.array([1,2,3])\n",
    "d = np.array([4,5,6])\n",
    "np.cross(c,d) #.cross will perform cross product between 2 arrays"
   ]
  }
 ],
 "metadata": {
  "kernelspec": {
   "display_name": "Python 3 (ipykernel)",
   "language": "python",
   "name": "python3"
  },
  "language_info": {
   "codemirror_mode": {
    "name": "ipython",
    "version": 3
   },
   "file_extension": ".py",
   "mimetype": "text/x-python",
   "name": "python",
   "nbconvert_exporter": "python",
   "pygments_lexer": "ipython3",
   "version": "3.11.5"
  }
 },
 "nbformat": 4,
 "nbformat_minor": 5
}
