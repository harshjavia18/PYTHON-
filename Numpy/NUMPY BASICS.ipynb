{
 "cells": [
  {
   "cell_type": "code",
   "execution_count": null,
   "id": "21e3234b",
   "metadata": {},
   "outputs": [],
   "source": [
    "#IN THIS NOTEBOOK WE WILL GO THROUGH BASICS OF NUMPY AND ITS ADVATNAGES "
   ]
  },
  {
   "cell_type": "code",
   "execution_count": 1,
   "id": "10b25210",
   "metadata": {},
   "outputs": [
    {
     "name": "stdout",
     "output_type": "stream",
     "text": [
      "Requirement already satisfied: numpy in /Users/harshjavia/anaconda3/lib/python3.11/site-packages (2.1.3)\n",
      "Note: you may need to restart the kernel to use updated packages.\n"
     ]
    }
   ],
   "source": [
    "pip install numpy"
   ]
  },
  {
   "cell_type": "code",
   "execution_count": 2,
   "id": "71256893",
   "metadata": {},
   "outputs": [],
   "source": [
    "import numpy as np "
   ]
  },
  {
   "cell_type": "code",
   "execution_count": 4,
   "id": "e360fcec",
   "metadata": {},
   "outputs": [
    {
     "data": {
      "text/plain": [
       "array([1, 2, 3])"
      ]
     },
     "execution_count": 4,
     "metadata": {},
     "output_type": "execute_result"
    }
   ],
   "source": [
    "arr = np.array([1,2,3])\n",
    "arr    #numpy representation "
   ]
  },
  {
   "cell_type": "code",
   "execution_count": 5,
   "id": "842b1e14",
   "metadata": {},
   "outputs": [
    {
     "data": {
      "text/plain": [
       "[1, 2, 3]"
      ]
     },
     "execution_count": 5,
     "metadata": {},
     "output_type": "execute_result"
    }
   ],
   "source": [
    "l = [1,2,3]\n",
    "l  #list representation "
   ]
  },
  {
   "cell_type": "code",
   "execution_count": 6,
   "id": "e8e8f35c",
   "metadata": {},
   "outputs": [],
   "source": [
    "#FOLLOWING ARE THE BENIFITS OF USING NUMPY INSTEAD OF LISTS "
   ]
  },
  {
   "cell_type": "markdown",
   "id": "e90c434b",
   "metadata": {},
   "source": [
    "# NUMPY OCCUPIES LESS MEMORY THAN LISTS\n"
   ]
  },
  {
   "cell_type": "code",
   "execution_count": 8,
   "id": "d987c963",
   "metadata": {},
   "outputs": [
    {
     "data": {
      "text/plain": [
       "[0, 1, 2, 3, 4]"
      ]
     },
     "execution_count": 8,
     "metadata": {},
     "output_type": "execute_result"
    }
   ],
   "source": [
    "python_list = list(range(100))\n",
    "python_list[:5]"
   ]
  },
  {
   "cell_type": "code",
   "execution_count": 9,
   "id": "fdbb948d",
   "metadata": {},
   "outputs": [
    {
     "data": {
      "text/plain": [
       "28"
      ]
     },
     "execution_count": 9,
     "metadata": {},
     "output_type": "execute_result"
    }
   ],
   "source": [
    "import sys\n",
    "sys.getsizeof(python_list[0]) #it tells us the size of one element "
   ]
  },
  {
   "cell_type": "code",
   "execution_count": 10,
   "id": "7b9ed866",
   "metadata": {},
   "outputs": [
    {
     "data": {
      "text/plain": [
       "2800"
      ]
     },
     "execution_count": 10,
     "metadata": {},
     "output_type": "execute_result"
    }
   ],
   "source": [
    "import sys\n",
    "sys.getsizeof(python_list[0])*len(python_list) #it tells us the size of whole list "
   ]
  },
  {
   "cell_type": "code",
   "execution_count": 11,
   "id": "f36b80c8",
   "metadata": {},
   "outputs": [
    {
     "data": {
      "text/plain": [
       "array([0, 1, 2, 3, 4])"
      ]
     },
     "execution_count": 11,
     "metadata": {},
     "output_type": "execute_result"
    }
   ],
   "source": [
    "np.array = np.arange(100)\n",
    "np.array[:5]"
   ]
  },
  {
   "cell_type": "code",
   "execution_count": 13,
   "id": "a7b5dabc",
   "metadata": {},
   "outputs": [
    {
     "data": {
      "text/plain": [
       "800"
      ]
     },
     "execution_count": 13,
     "metadata": {},
     "output_type": "execute_result"
    }
   ],
   "source": [
    "np.array.nbytes"
   ]
  },
  {
   "cell_type": "code",
   "execution_count": 14,
   "id": "6a6110f1",
   "metadata": {},
   "outputs": [],
   "source": [
    "# we can clearly see that numpy occupies 800 bytes for 100 elements and lists occupies 2800 bytes\n",
    "#in lists memories is fragmented and in numpy memories are contigenous "
   ]
  },
  {
   "cell_type": "markdown",
   "id": "ea8467ef",
   "metadata": {},
   "source": [
    "# NUMPY OPERATIONS ARE MUCH FASTER THAN LISTS"
   ]
  },
  {
   "cell_type": "code",
   "execution_count": 15,
   "id": "b34ee2e5",
   "metadata": {},
   "outputs": [
    {
     "data": {
      "text/plain": [
       "((1, 5), (2, 6), (3, 7))"
      ]
     },
     "execution_count": 15,
     "metadata": {},
     "output_type": "execute_result"
    }
   ],
   "source": [
    "l1 = [ 1,2,3]\n",
    "l2 = [5,6,7]\n",
    "tuple(zip(l1,l2))"
   ]
  },
  {
   "cell_type": "code",
   "execution_count": 21,
   "id": "3acd4998",
   "metadata": {},
   "outputs": [
    {
     "name": "stdout",
     "output_type": "stream",
     "text": [
      "Python list took :  0.0001628398895263672\n"
     ]
    }
   ],
   "source": [
    "import time \n",
    "size = 1000\n",
    "l1  = list(range(size))\n",
    "l2 = list(range(size))\n",
    "start_time = time.time()\n",
    "l3 = [x+y for x,y in zip(l1,l2)]\n",
    "end_time=time.time()\n",
    "print(\"Python list took : \" , end_time-start_time )"
   ]
  },
  {
   "cell_type": "code",
   "execution_count": 22,
   "id": "a354a6b7",
   "metadata": {},
   "outputs": [
    {
     "data": {
      "text/plain": [
       "(array([0, 1, 2, 3]), array([0, 1, 2, 3]))"
      ]
     },
     "execution_count": 22,
     "metadata": {},
     "output_type": "execute_result"
    }
   ],
   "source": [
    "n1 = np.arange(size)\n",
    "n2 = np.arange(size)\n",
    "n1[:4], n2[:4]"
   ]
  },
  {
   "cell_type": "code",
   "execution_count": 26,
   "id": "55842a47",
   "metadata": {},
   "outputs": [
    {
     "name": "stdout",
     "output_type": "stream",
     "text": [
      "Python array  took :  9.703636169433594e-05\n"
     ]
    }
   ],
   "source": [
    "start_time = time.time()\n",
    "n3 = n1 + n2\n",
    "end_time = time.time()\n",
    "print(\"Python array  took : \" , end_time-start_time )"
   ]
  },
  {
   "cell_type": "markdown",
   "id": "2d47cf29",
   "metadata": {},
   "source": [
    "# CONVENIENT USE WITH BUILT-IN FUNCTIONS"
   ]
  },
  {
   "cell_type": "code",
   "execution_count": 27,
   "id": "595832d9",
   "metadata": {},
   "outputs": [
    {
     "data": {
      "text/plain": [
       "([0, 1, 2], [0, 1, 2])"
      ]
     },
     "execution_count": 27,
     "metadata": {},
     "output_type": "execute_result"
    }
   ],
   "source": [
    "l1 = list(range(5))\n",
    "l2 = list(range(5))\n",
    "l1[:3], l2[:3]"
   ]
  },
  {
   "cell_type": "code",
   "execution_count": 28,
   "id": "1321927d",
   "metadata": {},
   "outputs": [
    {
     "data": {
      "text/plain": [
       "[0, 1, 2, 3, 4, 0, 1, 2, 3, 4]"
      ]
     },
     "execution_count": 28,
     "metadata": {},
     "output_type": "execute_result"
    }
   ],
   "source": [
    "l1 + l2 #it will concenate or will merge the two given lists"
   ]
  },
  {
   "cell_type": "code",
   "execution_count": 29,
   "id": "95bcd3df",
   "metadata": {},
   "outputs": [
    {
     "data": {
      "text/plain": [
       "[0, 2, 4, 6, 8]"
      ]
     },
     "execution_count": 29,
     "metadata": {},
     "output_type": "execute_result"
    }
   ],
   "source": [
    "l3 = [x+y for x,y in zip(l1,l2) ]\n",
    "l3"
   ]
  },
  {
   "cell_type": "code",
   "execution_count": 31,
   "id": "d9bbb0cc",
   "metadata": {},
   "outputs": [
    {
     "data": {
      "text/plain": [
       "(array([0, 1, 2, 3, 4]), array([0, 1, 2, 3, 4]))"
      ]
     },
     "execution_count": 31,
     "metadata": {},
     "output_type": "execute_result"
    }
   ],
   "source": [
    "n1 = np.arange(5) #in mupy we use .arange to declare size unlike list in which we use size= and range\n",
    "n2 = np.arange(5)\n",
    "n1,n2"
   ]
  },
  {
   "cell_type": "code",
   "execution_count": 32,
   "id": "c96fe4e8",
   "metadata": {},
   "outputs": [
    {
     "data": {
      "text/plain": [
       "array([ 0,  1,  4,  9, 16])"
      ]
     },
     "execution_count": 32,
     "metadata": {},
     "output_type": "execute_result"
    }
   ],
   "source": [
    "n1 * n2"
   ]
  }
 ],
 "metadata": {
  "kernelspec": {
   "display_name": "Python 3 (ipykernel)",
   "language": "python",
   "name": "python3"
  },
  "language_info": {
   "codemirror_mode": {
    "name": "ipython",
    "version": 3
   },
   "file_extension": ".py",
   "mimetype": "text/x-python",
   "name": "python",
   "nbconvert_exporter": "python",
   "pygments_lexer": "ipython3",
   "version": "3.11.5"
  }
 },
 "nbformat": 4,
 "nbformat_minor": 5
}
